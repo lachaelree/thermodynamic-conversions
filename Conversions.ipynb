{
 "cells": [
  {
   "cell_type": "markdown",
   "id": "0808228f",
   "metadata": {},
   "source": [
    "What's in this notebook:\n",
    "\n",
    "Conversions between certain thermodynamic properties (in sequence):\n",
    "\n",
    "1. Thermodynamic factor of salt to activity coefficient of salt  ------------(TD > $\\gamma_\\pm$)\n",
    "\n",
    "\n",
    "2. Activity coefficient of salt to thermodynamic factor of salt  -------------($\\gamma_\\pm$ > TD)\n",
    "\n",
    "\n",
    "3. Osmotic coefficient of solvent to thermodynamic factor of salt  ------($\\phi$ > TD)\n",
    "\n",
    "\n",
    "4. Thermodynamic factor of salt to osmotic coefficient of solvent  ------(TD > $\\phi$)\n",
    "\n",
    "\n",
    "5. Osmotic coefficient of solvent to activity coefficient of salt  ------------($\\phi$ > $\\gamma_\\pm$)\n",
    "\n",
    "\n",
    "6. Activity coefficient of salt to osmotic coefficient of solvent  ------------($\\gamma_\\pm$ > $\\phi$)\n",
    "\n",
    "\n",
    "7. Osmotic coefficient of solvent to activity coefficient of solvent  -------(TD > $\\gamma_\\pm$)\n",
    "\n",
    "\n",
    "8. Activity coefficient of solvent to osmotic coefficient of solvent  -------(TD > $\\gamma_\\pm$)\n",
    "\n",
    "All conversions here only apply to values that are in molality, except for conversions #1 and #2 where molarity can be used in place of molality to get the molar form of thermodynamic factor, and vice versa."
   ]
  },
  {
   "cell_type": "code",
   "execution_count": 1,
   "id": "a7ed9b5f",
   "metadata": {},
   "outputs": [],
   "source": [
    "# Needed libraries\n",
    "\n",
    "from matplotlib import pyplot as plt\n",
    "import numpy as np\n",
    "import pandas as pd\n",
    "import math\n",
    "from scipy.optimize import curve_fit\n",
    "from scipy import integrate"
   ]
  },
  {
   "cell_type": "markdown",
   "id": "0a608c32",
   "metadata": {},
   "source": [
    "Below are functions that convert between thermodynamic properties:"
   ]
  },
  {
   "cell_type": "markdown",
   "id": "21095863",
   "metadata": {},
   "source": [
    "## TD factor (salt) to activity coefficient (salt)"
   ]
  },
  {
   "cell_type": "code",
   "execution_count": 5,
   "id": "20497a28",
   "metadata": {},
   "outputs": [],
   "source": [
    "def TDtoACsalt(molality,TD):\n",
    "    \"\"\"\n",
    "    # converting thermodynamic factor of salt to activity coefficient of salt\n",
    "    # molal form\n",
    "    # inputs: \n",
    "            molality = molality in array or pandas.Series form\n",
    "            TD = thermodynamic factor of salt in array or pandas.Series form\n",
    "    # inputs can be in arrays, list or pandas.Series\n",
    "    # inputs molality and TD must be same length\n",
    "    \"\"\"\n",
    "    \n",
    "    ACsalt = np.exp(integrate.cumtrapz((TD-1),np.log(molality)))\n",
    "    return ACsalt"
   ]
  },
  {
   "cell_type": "markdown",
   "id": "dfe0942d",
   "metadata": {},
   "source": [
    "## Activity coefficient (salt) to TD factor (salt)"
   ]
  },
  {
   "cell_type": "code",
   "execution_count": 6,
   "id": "a2110734",
   "metadata": {},
   "outputs": [],
   "source": [
    "def ACsalttoTD(molality,gamma):\n",
    "    \"\"\"\n",
    "    # converting activity coefficient of salt to thermodynamic factor of salt\n",
    "    # molal form\n",
    "    # inputs: \n",
    "            molality = molality in array or pandas.Series form\n",
    "            gamma = activity coefficient of salt in array or pandas.Series form\n",
    "    # inputs can be in arrays, list or pandas.Series\n",
    "    # inputs molality and gamma must be same length\n",
    "    \"\"\"\n",
    "    \n",
    "    TD = 1 + np.gradient(np.log(gamma), np.log(molality))\n",
    "    return TD"
   ]
  },
  {
   "cell_type": "markdown",
   "id": "808b562c",
   "metadata": {},
   "source": [
    "## Osmotic coefficient (solvent) to TD factor (salt)"
   ]
  },
  {
   "cell_type": "code",
   "execution_count": 7,
   "id": "62e1bb41",
   "metadata": {},
   "outputs": [],
   "source": [
    "def OCtoTD(molality,OC):\n",
    "    \"\"\"\n",
    "    # converting osmotic coefficient of solvent to thermodynamic factor of salt\n",
    "    # molal form\n",
    "    # inputs: \n",
    "            molality = molality in array or pandas.Series form\n",
    "            OC = osmotic coefficient of solvent in array or pandas.Series form\n",
    "    # inputs can be in arrays, list or pandas.Series\n",
    "    # inputs molality and osmotic coefficient (OC) must be same length\n",
    "    \"\"\"\n",
    "    \n",
    "    TD = np.gradient(OC, np.log(molality)) + OC\n",
    "    return TD"
   ]
  },
  {
   "cell_type": "markdown",
   "id": "981a324e",
   "metadata": {},
   "source": [
    "## TD factor (salt) to osmotic coefficient (solvent)"
   ]
  },
  {
   "cell_type": "code",
   "execution_count": 8,
   "id": "7d7d8dca",
   "metadata": {},
   "outputs": [],
   "source": [
    "def TDtoOC(molality,TD):\n",
    "    \"\"\"\n",
    "    # converting thermodynamic factor of salt to osmotic coefficient of solvent\n",
    "    # molal form\n",
    "    # inputs: \n",
    "            molality = molality in array or pandas.Series form\n",
    "            TD = thermodynamic factor of salt in array or pandas.Series form\n",
    "    # inputs can be in arrays, list or pandas.Series\n",
    "    # inputs molality and thermodynamic factor (TD) must be same length\n",
    "    \"\"\"\n",
    "    \n",
    "    lnAC = integrate.cumtrapz((TD-1),np.log(molality))\n",
    "    OC = 1 + integrate.cumtrapz(m.drop(len(m)-1),lnAC)/m.drop([len(m)-1,len(m)-2])\n",
    "    return OC"
   ]
  },
  {
   "cell_type": "markdown",
   "id": "807feb85",
   "metadata": {},
   "source": [
    "## Osmotic coefficient (solvent) to activity coefficient (salt)"
   ]
  },
  {
   "cell_type": "code",
   "execution_count": 9,
   "id": "aa6488b7",
   "metadata": {},
   "outputs": [],
   "source": [
    "def OCtoACsalt(molality,OC):\n",
    "    \"\"\"\n",
    "    # converting osmotic coefficient of solvent to activity coefficient of salt\n",
    "    # molal form\n",
    "    # inputs: \n",
    "            molality = molality in array or pandas.Series form\n",
    "            OC = osmotic coefficient of solvent in array or pandas.Series form\n",
    "    # inputs can be in arrays, list or pandas.Series\n",
    "    # inputs molality and osmotic coefficient (OC) must be same length\n",
    "    \"\"\"\n",
    "    \n",
    "    AC = np.exp(OC - 1 + integrate.cumtrapz((OC-1),np.log(molality)))\n",
    "    return AC"
   ]
  },
  {
   "cell_type": "markdown",
   "id": "706998ab",
   "metadata": {},
   "source": [
    "## Activity coefficient (salt) to osmotic coefficient (solvent)"
   ]
  },
  {
   "cell_type": "code",
   "execution_count": 10,
   "id": "f6c6b863",
   "metadata": {},
   "outputs": [],
   "source": [
    "def ACsalttoOC(molality,gamma):\n",
    "    \"\"\"\n",
    "    # converting activity coefficient of salt to osmotic coefficient\n",
    "    # molal form\n",
    "    # inputs: \n",
    "            molality = molality in array or pandas.Series form\n",
    "            gamma = activity coefficient of salt in array or pandas.Series form\n",
    "    # inputs can be in arrays, list or pandas.Series\n",
    "    # inputs molality and activity coefficient of salt (gamma) must be same length\n",
    "    \"\"\"\n",
    "    \n",
    "    OC = 1 + integrate.cumtrapz(m,np.log(gamma))/m.drop(len(m)-1)\n",
    "    return OC"
   ]
  },
  {
   "cell_type": "markdown",
   "id": "4e8fa028",
   "metadata": {},
   "source": [
    "## Osmotic coefficient (solvent) to activity coefficient (solvent)"
   ]
  },
  {
   "cell_type": "code",
   "execution_count": 11,
   "id": "624b74a0",
   "metadata": {},
   "outputs": [],
   "source": [
    "def OCtoACsolvent(molality,OC,neu,M):\n",
    "    \"\"\"    \n",
    "    # converting osmotic coefficient to activity coefficient of solvent\n",
    "    # molal form\n",
    "    # inputs: \n",
    "            molality = molality in array or pandas.Series form\n",
    "            OC = Osmotic coefficient in array or pandas.Series form\n",
    "            neu = # of moles of ion \n",
    "            M = molecular weight of the solvent in g/mol\n",
    "    # inputs can be in arrays, list or pandas.Series\n",
    "    # inputs molality and activity coefficient of solvent (AC) must be same length\n",
    "    \"\"\" \n",
    "    AC = np.exp(-OC*neu*molality*M)/molality\n",
    "    return AC"
   ]
  },
  {
   "cell_type": "markdown",
   "id": "5451e71a",
   "metadata": {},
   "source": [
    "## Activity coefficient (solvent) to osmotic coefficient (solvent)"
   ]
  },
  {
   "cell_type": "code",
   "execution_count": 12,
   "id": "2cc20fe6",
   "metadata": {},
   "outputs": [],
   "source": [
    "def ACsolventtoOC(molality,AC,neu,M):\n",
    "    \"\"\"\n",
    "    # converting activity coefficient of solvent to osmotic coefficient \n",
    "    # molal form\n",
    "    # inputs: \n",
    "            molality = molality in array or pandas.Series form\n",
    "            AC = activity coefficient of solvent in array or pandas.Series form\n",
    "            neu = # of moles of ion \n",
    "            M = molecular weight of the solvent in g/mol\n",
    "    # molality and AC can be in arrays, list or pandas.Series\n",
    "    # molality and AC must be same length\n",
    "    \"\"\"\n",
    "    OC = -np.log(AC*molality)/(neu*molality*M)\n",
    "    return OC"
   ]
  },
  {
   "cell_type": "code",
   "execution_count": null,
   "id": "3fe13f4c",
   "metadata": {},
   "outputs": [],
   "source": []
  }
 ],
 "metadata": {
  "kernelspec": {
   "display_name": "Python 3",
   "language": "python",
   "name": "python3"
  },
  "language_info": {
   "codemirror_mode": {
    "name": "ipython",
    "version": 3
   },
   "file_extension": ".py",
   "mimetype": "text/x-python",
   "name": "python",
   "nbconvert_exporter": "python",
   "pygments_lexer": "ipython3",
   "version": "3.8.8"
  }
 },
 "nbformat": 4,
 "nbformat_minor": 5
}
